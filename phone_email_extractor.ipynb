{
 "cells": [
  {
   "cell_type": "markdown",
   "metadata": {},
   "source": [
    "## Email / Phone extractor (Regex)\n",
    "Manual:\n",
    "1.) Get the text from siste off to the clipboard. <br>\n",
    "2.) Find all phone numbers and email addresses in the text.<br>\n",
    "3.) Paste them onto the clipboard.<br>\n",
    "Code:<br>\n",
    "1.) Use the pyperclip module to copy and paste strings.<br>\n",
    "2.) Create two regexes, one for matching phone numbers and the other for\n",
    "matching email addresses.<br>\n",
    "<li> 2.a) Phone number is comprised out of area code, separator, first 3 digits, separator, last 4 digits, extension <br>  \n",
    "3.) Find all matches, not just the first match, of both regexes.<br>\n",
    "4.) Neatly format the matched strings into a single string to paste.<br>\n",
    "5.) Display some kind of message if no matches were found in the text.<br>"
   ]
  },
  {
   "cell_type": "code",
   "execution_count": null,
   "metadata": {},
   "outputs": [],
   "source": [
    "import pyperclip, re"
   ]
  },
  {
   "cell_type": "code",
   "execution_count": 2,
   "metadata": {},
   "outputs": [],
   "source": [
    "phoneRegex = re.compile(r'''\n",
    "    ((\\d{3}|\\(\\d{3}\\))?# area code could match 415 or (415), it is optional\n",
    "    (\\-s|-|\\.)?        # followed by Whitespace or hyphen or dot or nothing -?-, that is for example 444444\n",
    "    (\\d{3})            # followed by 3 digits\n",
    "    (\\-s|-|\\.)         # followed by a separator\n",
    "    (\\d{4})            # followed by 4 digits\n",
    "    (\\s*(ex|ext|ext.)\\s*\\d{2,5}) # followed by ext\n",
    "                       )''', re.VERBOSE)"
   ]
  },
  {
   "cell_type": "code",
   "execution_count": null,
   "metadata": {},
   "outputs": [],
   "source": [
    "emailRegex = re.compile(r'''(\n",
    "[a-z,A-Z,0-9.%_+-]+      # username alphanumeric -> character class followed by one or more chars\n",
    "@                        # @\n",
    "[a-z,A-Z,0-9_-]+         # domain alphanumeric\n",
    "\\.\\w{2,6}          # dot and some alpha ending\n",
    ")''', re.VERBOSE)"
   ]
  }
 ],
 "metadata": {
  "kernelspec": {
   "display_name": "Python 3",
   "language": "python",
   "name": "python3"
  },
  "language_info": {
   "codemirror_mode": {
    "name": "ipython",
    "version": 3
   },
   "file_extension": ".py",
   "mimetype": "text/x-python",
   "name": "python",
   "nbconvert_exporter": "python",
   "pygments_lexer": "ipython3",
   "version": "3.7.3"
  }
 },
 "nbformat": 4,
 "nbformat_minor": 2
}
