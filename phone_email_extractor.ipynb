{
 "cells": [
  {
   "cell_type": "markdown",
   "metadata": {},
   "source": [
    "## Email / Phone extractor (Regex)\n",
    "Manual:\n",
    "1.) Get the text off to the clipboard. <br>\n",
    "2.) Find all phone numbers and email addresses in the text.<br>\n",
    "3.) Paste them onto the clipboard and print results to the screen.<br>\n",
    "Code:<br>\n",
    "1.) Use the pyperclip module to copy and paste strings.<br>\n",
    "2.) Create two regexes, one for matching phone numbers and the other for\n",
    "matching email addresses.<br>\n",
    "<li> 2.a) Phone number is comprised out of area code, separator, first 3 digits, separator, last 4 digits, extension <br>  \n",
    "3.) Find all matches, not just the first match, of both regexes.<br>\n",
    "4.) Neatly format the matched strings into a single string to paste.<br>\n",
    "5.) Display some kind of message if no matches were found in the text.<br>"
   ]
  },
  {
   "cell_type": "code",
   "execution_count": 2,
   "metadata": {},
   "outputs": [],
   "source": [
    "import pyperclip, re #import relevant libraries"
   ]
  },
  {
   "cell_type": "markdown",
   "metadata": {},
   "source": [
    "### Define the two Regexes, email and phoneNum extractor"
   ]
  },
  {
   "cell_type": "code",
   "execution_count": 4,
   "metadata": {},
   "outputs": [],
   "source": [
    "# phoneRegex = re.compile(r'''(\n",
    "#    (\\d{3}|\\(\\d{3}\\))? # area code could match 415 or (415), it is optional\n",
    "#    (\\-s|-|\\.)?        # followed by Whitespace or hyphen or dot or nothing -?-, that is for example 444444\n",
    "#    (\\d{3})            # followed by 3 digits\n",
    "#    (\\-s|-|\\.)         # followed by a separator\n",
    "#    (\\d{4})            # followed by 4 digits\n",
    "#    (\\s*(ex|ext|ext.)\\s*\\d{2,5}) # followed by ext\n",
    "#                       )''', re.VERBOSE)"
   ]
  },
  {
   "cell_type": "code",
   "execution_count": 3,
   "metadata": {},
   "outputs": [],
   "source": [
    "phoneRegexSimple = re.compile(r'((\\d{3}|\\(\\d{3}\\))?(\\s|-|\\.)?(\\d{3})(\\s|-|\\.)(\\d{4})(\\s*(ext|x|ext.)\\s*(\\d{2,5}))?)') #same as above just without the extension and the verbose part"
   ]
  },
  {
   "cell_type": "code",
   "execution_count": 4,
   "metadata": {},
   "outputs": [],
   "source": [
    "emailRegex = re.compile(r'''(\n",
    "[a-z,A-Z,0-9.%_+-]+      # username alphanumeric -> character class followed by one or more chars\n",
    "@                        # @\n",
    "[a-z,A-Z,0-9_-]+         # domain alphanumeric\n",
    "\\.\\w{2,6}          # dot and some alpha ending\n",
    ")''', re.VERBOSE)"
   ]
  },
  {
   "cell_type": "markdown",
   "metadata": {},
   "source": [
    "### Find all emails in clipboard text. Copy contents of this page into the clipboard: https://nostarch.com/contactus"
   ]
  },
  {
   "cell_type": "code",
   "execution_count": 5,
   "metadata": {},
   "outputs": [],
   "source": [
    "emailList = []"
   ]
  },
  {
   "cell_type": "code",
   "execution_count": 6,
   "metadata": {},
   "outputs": [],
   "source": [
    "text = str(pyperclip.paste()) # text object pastes clipboard text (string)"
   ]
  },
  {
   "cell_type": "code",
   "execution_count": 7,
   "metadata": {},
   "outputs": [
    {
     "data": {
      "text/plain": [
       "'\\nSkip to main content\\nHome\\nSearch form\\n\\n        Catalog\\n        Blog\\n        Media\\n        Write for Us\\n        About Us\\n        Contact Us\\n\\nTopics\\n\\n    Art & Design\\n    General Computing\\n    Hacking & Computer Security\\n    Hardware / DIY\\n    Kids\\n    LEGO®\\n    Linux & BSD\\n    Manga\\n    Programming\\n    Python\\n    Science & Math\\n    Scratch\\n    System Administration\\n    Early Access\\n\\nFree ebook edition with every print book purchased from nostarch.com!\\nShopping cart\\n0 Items\\tTotal: $0.00\\nUser login\\n\\n    Log in\\n    Create account\\n\\nNo Starch Press publishes the finest in geek entertainment — bestsellers like Python Crash Course, Python for Kids, How Linux Works, and Hacking: The Art of Exploitation. We focus on computer programming, security, hacking, alternative operating systems, STEM, and LEGO. Our titles have personality, our authors are passionate, and we read and edit everything we publish. Readers appreciate our straightforward presentation, fearless approach to the complex world of technology, and support of the global hacking community. No Starch Press titles have been included in the prestigious Communication Arts Design Annual and STEP inside 100 competition, and have won the Independent Publisher Book Award (the \"IPPYs\") from Independent Publisher magazine.\\n\\nSan Francisco-based No Starch Press was founded in 1994 by Bill Pollock, who brings more than 30 years of publishing industry experience to the company. Prior to launching No Starch Press, Pollock worked in professional reference, scientific, college and trade publishing, and was a co-founder of computer book publisher APress.\\n\\nA graduate of Amherst College with a Political Science degree (\"I wrote my papers on a VAX when not playing Zork,\") Pollock prefers to think of himself as a would-be Biology major. After three years helping run a family wedding gown business Pollock left for a premed program at University of Pennsylvania thinking he\\'d be learning science. He dropped out of that program and joined Springer-Verlag in 1987 where he rewrote the occasional medical book, attempted to teach people how to use a PC XT, and sold medical books at conferences. Subsequent stints in book publishing included textbook publishing (Wadsworth, sales meetings were a blast), scientific and technical publishing (W. H. Freeman where he tried to develop a software-based molecular modeling kit way back in 1990). After being fired from Freeman Pollock left New York for Osborne/McGraw-Hill where he published some big and boring manuals, computer game books (fun, in the early days of Maxis and Sierra Online), and books about things like SoundBlaster. His managers would pull books out of his hands because he kept working on them. After being fired from Osborne, Pollock founded No Starch Press where he remains an active editor and works closely with many of our authors.\\n\\nNo Starch Press\\n245 8th St.\\nSan Francisco, CA 94103 USA\\nPhone: 800.420.7240 or +1 415.863.9900 (9 a.m. to 5 p.m., M-F, PST)\\nFax: +1 415.863.9950\\nEmail: info@nostarch.com\\n\\n\\nMEET OUR STAFF!\\n\\n\\nBillBill Pollock, Big Fish\\nBill likes playing the piano, being a general contractor, and watching his son solder stuff.\\nOffice pet peeve: Water pipes full of lead.\\nHogwarts house: Muggle\\nAnnieAnnie Choi, Managing Editor\\nAnnie likes watching dogs play at the dog park.\\nOffice pet peeve: Personal fragrance.\\nHogwarts house: Ravenclaw\\nLiz Chadwick, Senior Editor\\nLiz likes Californian sunshine, beer, and novels with detestable protagonists.\\nOffice pet peeve: Dry typing hands.\\nHogwarts house: Ravenclaw\\nZachZach Lebowski, Associate Editor\\nZach likes to think that in a world which really is topsy-turvy, the true is a moment of the false.\\nOffice pet peeve: Squeaky chairs.\\nHogwarts house: Ravenclaw\\nFrancesFrances Saux, Editorial Assistant\\nFrances likes walks around the block.\\nOffice pet peeve: Spectacle.\\nHogwarts house: Unclear\\nMatthewMatthew Kim, Editorial Assistant\\nMatthew likes fun stories and the Lakers.\\nOffice pet peeve: Chilly drafts.\\nHogwarts house: Gryffindor\\nAlexAlex Freed, Editorial Assistant\\nAlex likes gossip and The BART.\\nOffice pet peeve: Cold.\\nHogwarts house: Ravenclaw\\nLaurelLaurel Chun, Production Manager\\nLaurel likes spicy food, thrift shop bric-a-brac, and untranslatable words.\\nOffice pet peeve: When no one throws away chip bags full of crumbs.\\nHogwarts house: Slytherin\\nMegMeg Sneeringer, Production Editor\\nMeg likes Pleistocene megafauna, sequins, and ballet.\\nOffice pet peeve: Being cold.\\nHogwarts house: Hufflepuff\\nJanelleJanelle Ludowise, Associate Production Editor\\nJanelle likes hot cups of tea, public libraries, folklore, evolutionary theory, bunnies, and making obscure references.\\nOffice pet peeve: Poor lighting.\\nHogwarts house: Hufflepuff\\nBrittBrittany Bogan, Editorial Production Assistant\\nBritt likes lounging in pajamas with cats, citing Chicago Manual of Style, cold herbal tea, and Medieval/Early Modern literature.\\nOffice pet peeve: Not closing the toilet seat lid.\\nHogwarts house: Ravenclaw\\nKassieKassie Andreadis, Editorial Production Assistant\\nKassie likes mythology, watching hockey, road trips, and stories about found families.\\nOffice pet peeve: Mysterious computer problems.\\nHogwarts house: Gryffindor\\nDaveDavid Bugden, Sales & Marketing Analyst, Rights Manager\\nDave likes reading old books, baking, growing produce, dark chocolate and the Toon.\\nOffice pet peeve: Flaky WiFi.\\nHogwarts house: Baker Street Irregulars\\nKatieKatie Haemmerle, Marketing Associate\\nKatie likes old architecture, cannoli, oceans, poetry, and views of cities from elevated subway trains.\\nOffice pet peeve: Thermostats set so cold fingernails turn purple.\\nHogwarts house: Ravenclaw\\nMingMing Choi, Customer Service\\nMing enjoys movies, books, comics, TV, video games, the Internet, and writing.\\nOffice pet peeve: When things don\\'t work how they\\'re supposed to.\\nHogwarts house: ?\\nNavigation\\n\\n    My account\\n\\nWant sweet deals?\\nSign up for our newsletter.\\n\\nAbout Us  |  Jobs!  |  Sales and Distribution  |  Rights  |  Media  |  Academic Requests  |  Conferences  |  Order FAQ  |  Contact Us  |  Write for Us  |  Privacy\\n\\nCopyright 2019. No Starch Press, Inc\\n'"
      ]
     },
     "execution_count": 7,
     "metadata": {},
     "output_type": "execute_result"
    }
   ],
   "source": [
    "text"
   ]
  },
  {
   "cell_type": "code",
   "execution_count": 8,
   "metadata": {},
   "outputs": [
    {
     "data": {
      "text/plain": [
       "<re.Match object; span=(3014, 3031), match='info@nostarch.com'>"
      ]
     },
     "execution_count": 8,
     "metadata": {},
     "output_type": "execute_result"
    }
   ],
   "source": [
    "emailRegex.search(text) # check to see we indeed find at least one email address"
   ]
  },
  {
   "cell_type": "code",
   "execution_count": 10,
   "metadata": {},
   "outputs": [],
   "source": [
    "for emails in emailRegex.findall(text): # iterate over emails\n",
    "    emailList.append(emails) # append emails to the list (recall list is mutable)"
   ]
  },
  {
   "cell_type": "code",
   "execution_count": 11,
   "metadata": {
    "scrolled": false
   },
   "outputs": [
    {
     "data": {
      "text/plain": [
       "['info@nostarch.com']"
      ]
     },
     "execution_count": 11,
     "metadata": {},
     "output_type": "execute_result"
    }
   ],
   "source": [
    "emailList"
   ]
  },
  {
   "cell_type": "code",
   "execution_count": 12,
   "metadata": {
    "scrolled": true
   },
   "outputs": [
    {
     "name": "stdout",
     "output_type": "stream",
     "text": [
      "info@nostarch.com\n"
     ]
    }
   ],
   "source": [
    "print('\\n'.join(emailList)) # use join to neatly add all email addresses"
   ]
  },
  {
   "cell_type": "markdown",
   "metadata": {},
   "source": [
    "### Appending phone numbers to the list:"
   ]
  },
  {
   "cell_type": "code",
   "execution_count": 13,
   "metadata": {},
   "outputs": [
    {
     "data": {
      "text/plain": [
       "<re.Match object; span=(2925, 2937), match='800.420.7240'>"
      ]
     },
     "execution_count": 13,
     "metadata": {},
     "output_type": "execute_result"
    }
   ],
   "source": [
    "phoneRegexSimple.search(text) # check to see we have a number"
   ]
  },
  {
   "cell_type": "code",
   "execution_count": 14,
   "metadata": {},
   "outputs": [
    {
     "data": {
      "text/plain": [
       "[('800.420.7240', '800', '.', '420', '.', '7240', '', '', ''),\n",
       " ('415.863.9900', '415', '.', '863', '.', '9900', '', '', ''),\n",
       " ('415.863.9950', '415', '.', '863', '.', '9950', '', '', '')]"
      ]
     },
     "execution_count": 14,
     "metadata": {},
     "output_type": "execute_result"
    }
   ],
   "source": [
    "phoneRegexSimple.findall(text) # we get a list of tuples that might not be in the same format"
   ]
  },
  {
   "cell_type": "code",
   "execution_count": 15,
   "metadata": {},
   "outputs": [],
   "source": [
    "phoneList = [] # create empty list"
   ]
  },
  {
   "cell_type": "code",
   "execution_count": 16,
   "metadata": {},
   "outputs": [],
   "source": [
    "for phones in phoneRegexSimple.findall(text):\n",
    "    phoneNum = '-'.join([phones[1], phones[3], phones[5]]) #keeping numbers separated by hyphen\n",
    "    phoneList.append(phoneNum)\n"
   ]
  },
  {
   "cell_type": "code",
   "execution_count": 17,
   "metadata": {},
   "outputs": [
    {
     "data": {
      "text/plain": [
       "['800-420-7240', '415-863-9900', '415-863-9950']"
      ]
     },
     "execution_count": 17,
     "metadata": {},
     "output_type": "execute_result"
    }
   ],
   "source": [
    "phoneList"
   ]
  },
  {
   "cell_type": "code",
   "execution_count": 18,
   "metadata": {},
   "outputs": [
    {
     "name": "stdout",
     "output_type": "stream",
     "text": [
      "800-420-7240\n",
      "415-863-9900\n",
      "415-863-9950\n"
     ]
    }
   ],
   "source": [
    "print('\\n'.join(phoneList)) # join the numbers neatly with line break"
   ]
  },
  {
   "cell_type": "markdown",
   "metadata": {},
   "source": [
    "### Now we will add both emails and phone numbers into one list - allMatches"
   ]
  },
  {
   "cell_type": "code",
   "execution_count": 19,
   "metadata": {},
   "outputs": [],
   "source": [
    "allMatches = []"
   ]
  },
  {
   "cell_type": "code",
   "execution_count": 20,
   "metadata": {},
   "outputs": [
    {
     "name": "stdout",
     "output_type": "stream",
     "text": [
      "copied to clipboard\n",
      "800-420-7240\n",
      "415-863-9900\n",
      "415-863-9950\n",
      "info@nostarch.com\n"
     ]
    }
   ],
   "source": [
    "for phones in phoneRegexSimple.findall(text):\n",
    "    phoneMatch = '-'.join([phones[1], phones[3], phones[5]])\n",
    "    allMatches.append(phoneMatch)\n",
    "for emails in emailRegex.findall(text):\n",
    "    allMatches.append(emails)\n",
    "\n",
    "if len(allMatches) > 0:\n",
    "    pyperclip.copy('\\n'.join(allMatches))\n",
    "    print('copied to clipboard')\n",
    "    print('\\n'.join(allMatches))\n",
    "else:\n",
    "    print('no match found')\n",
    "    "
   ]
  }
 ],
 "metadata": {
  "kernelspec": {
   "display_name": "Python 3",
   "language": "python",
   "name": "python3"
  },
  "language_info": {
   "codemirror_mode": {
    "name": "ipython",
    "version": 3
   },
   "file_extension": ".py",
   "mimetype": "text/x-python",
   "name": "python",
   "nbconvert_exporter": "python",
   "pygments_lexer": "ipython3",
   "version": "3.7.1"
  }
 },
 "nbformat": 4,
 "nbformat_minor": 2
}
