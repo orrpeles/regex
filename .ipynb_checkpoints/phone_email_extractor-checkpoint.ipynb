{
 "cells": [
  {
   "cell_type": "markdown",
   "metadata": {},
   "source": [
    "## Email / Phone extractor (Regex)\n",
    "Manual:\n",
    "1.) Get the text from siste off to the clipboard. <br>\n",
    "2.) Find all phone numbers and email addresses in the text.<br>\n",
    "3.) Paste them onto the clipboard.<br>\n",
    "Code:<br>\n",
    "1.) Use the pyperclip module to copy and paste strings.<br>\n",
    "2.) Create two regexes, one for matching phone numbers and the other for\n",
    "matching email addresses.<br>\n",
    "<li> 2.a) Phone number is comprised out of area code, separator, first 3 digits, separator, last 4 digits, extension <br>  \n",
    "3.) Find all matches, not just the first match, of both regexes.<br>\n",
    "4.) Neatly format the matched strings into a single string to paste.<br>\n",
    "5.) Display some kind of message if no matches were found in the text.<br>"
   ]
  },
  {
   "cell_type": "code",
   "execution_count": 3,
   "metadata": {},
   "outputs": [],
   "source": [
    "import pyperclip, re #import relevant libraries"
   ]
  },
  {
   "cell_type": "markdown",
   "metadata": {},
   "source": [
    "### Define the two Regexes, email and phoneNum extractor"
   ]
  },
  {
   "cell_type": "code",
   "execution_count": 4,
   "metadata": {},
   "outputs": [],
   "source": [
    "phoneRegex = re.compile(r'''(\n",
    "    (\\d{3}|\\(\\d{3}\\))? # area code could match 415 or (415), it is optional\n",
    "    (\\-s|-|\\.)?        # followed by Whitespace or hyphen or dot or nothing -?-, that is for example 444444\n",
    "    (\\d{3})            # followed by 3 digits\n",
    "    (\\-s|-|\\.)         # followed by a separator\n",
    "    (\\d{4})            # followed by 4 digits\n",
    "    (\\s*(ex|ext|ext.)\\s*\\d{2,5}) # followed by ext\n",
    "                       )''', re.VERBOSE)"
   ]
  },
  {
   "cell_type": "code",
   "execution_count": 8,
   "metadata": {},
   "outputs": [],
   "source": [
    "phoneRegexSimple = re.compile(r'((\\d{3}|\\(\\d{3}\\))?(\\s|-|\\.)?(\\d{3})(\\s|-|\\.)(\\d{4})(\\s*(ext|x|ext.)\\s*(\\d{2,5}))?)') #same as above just without the extension and the verbose part"
   ]
  },
  {
   "cell_type": "code",
   "execution_count": 9,
   "metadata": {},
   "outputs": [],
   "source": [
    "emailRegex = re.compile(r'''(\n",
    "[a-z,A-Z,0-9.%_+-]+      # username alphanumeric -> character class followed by one or more chars\n",
    "@                        # @\n",
    "[a-z,A-Z,0-9_-]+         # domain alphanumeric\n",
    "\\.\\w{2,6}          # dot and some alpha ending\n",
    ")''', re.VERBOSE)"
   ]
  },
  {
   "cell_type": "markdown",
   "metadata": {},
   "source": [
    "### Find all emails in clipboard text. Copy contents of this page into the clipboard: https://nostarch.com/contactus"
   ]
  },
  {
   "cell_type": "code",
   "execution_count": 39,
   "metadata": {},
   "outputs": [],
   "source": [
    "emailList = []"
   ]
  },
  {
   "cell_type": "code",
   "execution_count": 42,
   "metadata": {},
   "outputs": [],
   "source": [
    "text = str(pyperclip.paste()) # text object pastes clipboard text (string)"
   ]
  },
  {
   "cell_type": "code",
   "execution_count": 43,
   "metadata": {},
   "outputs": [
    {
     "data": {
      "text/plain": [
       "'Skip to main content\\nHome\\nSearch form\\nSearch\\nCatalog\\nBlog\\nMedia\\nWrite for Us\\nAbout Us\\nContact Us\\nTopics\\nArt & Design\\nGeneral Computing\\nHacking & Computer Security\\nHardware / DIY\\nKids\\nLEGO®\\nLinux & BSD\\nManga\\nProgramming\\nPython\\nScience & Math\\nScratch\\nSystem Administration\\nEarly Access\\nFree ebook edition with every print book purchased from nostarch.com!\\nShopping cart\\n0 Items\\tTotal: $0.00\\nUser login\\nLog in\\nCreate account\\nContact Us\\n\\nNo Starch Press, Inc.\\n245 8th Street\\nSan Francisco, CA 94103 USA\\nPhone: 800.420.7240 or +1 415.863.9900 (9 a.m. to 5 p.m., M-F, PST)\\nFax: +1 415.863.9950\\n\\nReach Us by Email\\n\\nGeneral inquiries: info@nostarch.com\\nMedia requests: media@nostarch.com\\nAcademic requests: academic@nostarch.com (Please see this page for academic review requests)\\nHelp with your order: info@nostarch.com\\nReach Us on Social Media\\nTwitter\\nFacebook\\nInstagram\\nPinterest\\n\\nNavigation\\nMy account\\nWant sweet deals? \\nSign up for our newsletter.\\n\\n\\nAbout Us  |  Jobs!  |  Sales and Distribution  |  Rights  |  Media  |  Academic Requests  |  Conferences  |  Order FAQ  |  Contact Us  |  Write for Us  |  Privacy\\nCopyright 2019. No Starch Press, Inc'"
      ]
     },
     "execution_count": 43,
     "metadata": {},
     "output_type": "execute_result"
    }
   ],
   "source": [
    "text"
   ]
  },
  {
   "cell_type": "code",
   "execution_count": 44,
   "metadata": {},
   "outputs": [
    {
     "data": {
      "text/plain": [
       "<re.Match object; span=(627, 644), match='info@nostarch.com'>"
      ]
     },
     "execution_count": 44,
     "metadata": {},
     "output_type": "execute_result"
    }
   ],
   "source": [
    "emailRegex.search(text) # check to see we indeed find at least one email address"
   ]
  },
  {
   "cell_type": "code",
   "execution_count": 47,
   "metadata": {},
   "outputs": [],
   "source": [
    "for emails in emailRegex.findall(text): # iterate over emails\n",
    "    emailList.append(emails) # append emails to the list (recall list is mutable)"
   ]
  },
  {
   "cell_type": "code",
   "execution_count": 48,
   "metadata": {
    "scrolled": false
   },
   "outputs": [
    {
     "data": {
      "text/plain": [
       "['info@nostarch.com',\n",
       " 'media@nostarch.com',\n",
       " 'academic@nostarch.com',\n",
       " 'info@nostarch.com']"
      ]
     },
     "execution_count": 48,
     "metadata": {},
     "output_type": "execute_result"
    }
   ],
   "source": [
    "emailList"
   ]
  },
  {
   "cell_type": "code",
   "execution_count": 50,
   "metadata": {
    "scrolled": true
   },
   "outputs": [
    {
     "name": "stdout",
     "output_type": "stream",
     "text": [
      "info@nostarch.com\n",
      "media@nostarch.com\n",
      "academic@nostarch.com\n",
      "info@nostarch.com\n"
     ]
    }
   ],
   "source": [
    "print('\\n'.join(emailList)) # use join to neatly add all email addresses"
   ]
  },
  {
   "cell_type": "markdown",
   "metadata": {},
   "source": [
    "### Appending phone numbers to the list:"
   ]
  },
  {
   "cell_type": "code",
   "execution_count": 18,
   "metadata": {},
   "outputs": [
    {
     "data": {
      "text/plain": [
       "<re.Match object; span=(506, 518), match='800.420.7240'>"
      ]
     },
     "execution_count": 18,
     "metadata": {},
     "output_type": "execute_result"
    }
   ],
   "source": [
    "phoneRegexSimple.search(text) # check to see we have a number"
   ]
  },
  {
   "cell_type": "code",
   "execution_count": 34,
   "metadata": {},
   "outputs": [
    {
     "data": {
      "text/plain": [
       "[('800.420.7240', '800', '.', '420', '.', '7240', '', '', ''),\n",
       " ('415.863.9900', '415', '.', '863', '.', '9900', '', '', ''),\n",
       " ('415.863.9950', '415', '.', '863', '.', '9950', '', '', '')]"
      ]
     },
     "execution_count": 34,
     "metadata": {},
     "output_type": "execute_result"
    }
   ],
   "source": [
    "phoneRegexSimple.findall(text) # we get a list of tuples that might not be in the same format"
   ]
  },
  {
   "cell_type": "code",
   "execution_count": 35,
   "metadata": {},
   "outputs": [],
   "source": [
    "phoneList = [] # create empty list"
   ]
  },
  {
   "cell_type": "code",
   "execution_count": 36,
   "metadata": {},
   "outputs": [],
   "source": [
    "for phones in phoneRegexSimple.findall(text):\n",
    "    phoneNum = '-'.join([phones[1], phones[3], phones[5]]) #keeping numbers separated by hyphen\n",
    "    phoneList.append(phoneNum)\n"
   ]
  },
  {
   "cell_type": "code",
   "execution_count": 37,
   "metadata": {},
   "outputs": [
    {
     "data": {
      "text/plain": [
       "['800-420-7240', '415-863-9900', '415-863-9950']"
      ]
     },
     "execution_count": 37,
     "metadata": {},
     "output_type": "execute_result"
    }
   ],
   "source": [
    "phoneList"
   ]
  },
  {
   "cell_type": "code",
   "execution_count": 38,
   "metadata": {},
   "outputs": [
    {
     "name": "stdout",
     "output_type": "stream",
     "text": [
      "800-420-7240\n",
      "415-863-9900\n",
      "415-863-9950\n"
     ]
    }
   ],
   "source": [
    "print('\\n'.join(phoneList)) # join the numbers neatly with line break"
   ]
  },
  {
   "cell_type": "markdown",
   "metadata": {},
   "source": [
    "### Now we will add both emails and phone numbers into one list - allMatches"
   ]
  },
  {
   "cell_type": "code",
   "execution_count": 60,
   "metadata": {},
   "outputs": [],
   "source": [
    "allMatches = []"
   ]
  },
  {
   "cell_type": "code",
   "execution_count": 61,
   "metadata": {},
   "outputs": [
    {
     "name": "stdout",
     "output_type": "stream",
     "text": [
      "copied to clipboard\n",
      "800-420-7240\n",
      "415-863-9900\n",
      "415-863-9950\n",
      "info@nostarch.com\n",
      "media@nostarch.com\n",
      "academic@nostarch.com\n",
      "info@nostarch.com\n"
     ]
    }
   ],
   "source": [
    "for phones in phoneRegexSimple.findall(text):\n",
    "    phoneMatch = '-'.join([phones[1], phones[3], phones[5]])\n",
    "    allMatches.append(phoneMatch)\n",
    "for emails in emailRegex.findall(text):\n",
    "    allMatches.append(emails)\n",
    "\n",
    "if len(allMatches) > 0:\n",
    "    pyperclip.copy('\\n'.join(allMatches))\n",
    "    print('copied to clipboard')\n",
    "    print('\\n'.join(allMatches))\n",
    "else:\n",
    "    print('no match found')\n",
    "    "
   ]
  }
 ],
 "metadata": {
  "kernelspec": {
   "display_name": "Python 3",
   "language": "python",
   "name": "python3"
  },
  "language_info": {
   "codemirror_mode": {
    "name": "ipython",
    "version": 3
   },
   "file_extension": ".py",
   "mimetype": "text/x-python",
   "name": "python",
   "nbconvert_exporter": "python",
   "pygments_lexer": "ipython3",
   "version": "3.7.3"
  }
 },
 "nbformat": 4,
 "nbformat_minor": 2
}
