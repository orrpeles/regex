{
 "cells": [
  {
   "cell_type": "markdown",
   "metadata": {},
   "source": [
    "## Email / Phone extractor (Regex)\n",
    "Manual:\n",
    "1.) Get the text from siste off to the clipboard. <br>\n",
    "2.) Find all phone numbers and email addresses in the text.<br>\n",
    "3.) Paste them onto the clipboard.<br>\n",
    "Code:<br>\n",
    "1.) Use the pyperclip module to copy and paste strings.<br>\n",
    "2.) Create two regexes, one for matching phone numbers and the other for\n",
    "matching email addresses.<br>\n",
    "<li> 2.a) Phone number is comprised out of area code, separator, first 3 digits, separator, last 4 digits, extension <br>  \n",
    "3.) Find all matches, not just the first match, of both regexes.<br>\n",
    "4.) Neatly format the matched strings into a single string to paste.<br>\n",
    "5.) Display some kind of message if no matches were found in the text.<br>"
   ]
  },
  {
   "cell_type": "code",
   "execution_count": 2,
   "metadata": {},
   "outputs": [],
   "source": [
    "import pyperclip, re"
   ]
  },
  {
   "cell_type": "code",
   "execution_count": null,
   "metadata": {},
   "outputs": [],
   "source": [
    "phoneRegex = re.compile(r'\n",
    "    (\\d{3}|\\(\\d{3}\\))? # area code could match 415 or (415)\n",
    "    \\-  #Separator: 415-444 or (415) - 451-3333\n",
    "    \n",
    "                       )')"
   ]
  }
 ],
 "metadata": {
  "kernelspec": {
   "display_name": "Python 3",
   "language": "python",
   "name": "python3"
  },
  "language_info": {
   "codemirror_mode": {
    "name": "ipython",
    "version": 3
   },
   "file_extension": ".py",
   "mimetype": "text/x-python",
   "name": "python",
   "nbconvert_exporter": "python",
   "pygments_lexer": "ipython3",
   "version": "3.7.3"
  }
 },
 "nbformat": 4,
 "nbformat_minor": 2
}
